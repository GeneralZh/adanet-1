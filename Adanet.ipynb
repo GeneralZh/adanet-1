{
 "cells": [
  {
   "cell_type": "code",
   "execution_count": 40,
   "metadata": {
    "collapsed": true
   },
   "outputs": [],
   "source": [
    "import AdaNet_CIFAR_10_feature_extraction as AdaFE\n",
    "import time\n",
    "import importlib\n",
    "import math\n",
    "import random"
   ]
  },
  {
   "cell_type": "code",
   "execution_count": 2,
   "metadata": {},
   "outputs": [
    {
     "data": {
      "text/plain": [
       "<module 'AdaNet_CIFAR_10_feature_extraction' from 'C:\\\\Users\\\\David\\\\Documents\\\\דוקטורט\\\\קורס יישום אלגוריתמים לומדים 372.2.5214\\\\ex4\\\\adanet\\\\AdaNet_CIFAR_10_feature_extraction.py'>"
      ]
     },
     "execution_count": 2,
     "metadata": {},
     "output_type": "execute_result"
    }
   ],
   "source": [
    "importlib.reload(AdaFE)"
   ]
  },
  {
   "cell_type": "code",
   "execution_count": 3,
   "metadata": {
    "collapsed": true
   },
   "outputs": [],
   "source": [
    "cat_dog = AdaFE.CF10_pairs('cat','dog')"
   ]
  },
  {
   "cell_type": "code",
   "execution_count": 4,
   "metadata": {},
   "outputs": [
    {
     "name": "stdout",
     "output_type": "stream",
     "text": [
      "0.12780475616455078\n"
     ]
    }
   ],
   "source": [
    "start_time = time.time()\n",
    "X_train, y_train, X_test, y_test = AdaFE.train_test_dataset(cat_dog)\n",
    "print(time.time() - start_time)"
   ]
  },
  {
   "cell_type": "code",
   "execution_count": 2,
   "metadata": {
    "collapsed": true
   },
   "outputs": [],
   "source": [
    "import matplotlib.pyplot as plt\n",
    "import numpy as np\n",
    "import tensorflow as tf\n",
    "from tensorflow.python.framework import ops\n",
    "import os.path\n",
    "import csv"
   ]
  },
  {
   "cell_type": "code",
   "execution_count": 6,
   "metadata": {
    "collapsed": true
   },
   "outputs": [],
   "source": [
    "ops.reset_default_graph()\n",
    "\n",
    "# Create graph\n",
    "sess = tf.Session()"
   ]
  },
  {
   "cell_type": "code",
   "execution_count": 7,
   "metadata": {
    "collapsed": true
   },
   "outputs": [],
   "source": [
    "# set for reproducible results\n",
    "seed = 99\n",
    "np.random.seed(seed)\n",
    "tf.set_random_seed(seed)"
   ]
  },
  {
   "cell_type": "code",
   "execution_count": 8,
   "metadata": {
    "collapsed": true
   },
   "outputs": [],
   "source": [
    "x_vals_train = X_train\n",
    "x_vals_test = X_test\n",
    "y_vals_train = y_train\n",
    "y_vals_test = y_test"
   ]
  },
  {
   "cell_type": "code",
   "execution_count": 234,
   "metadata": {
    "collapsed": true
   },
   "outputs": [],
   "source": [
    "cfg = {}\n",
    "cfg['maxNodes'] = np.dot(np.array(50),np.ones((1,5)))\n",
    "cfg['maxWeightNorms'] = np.dot(np.array(10),np.ones(np.size(cfg['maxNodes']))) #capital lambda\n",
    "cfg['pnorm'] = 2\n",
    "cfg['maxWeightMag'] = np.dot(np.array(10),np.ones(np.size(cfg['maxNodes'])))\n",
    "cfg['maxBiasMag'] = 10\n",
    "cfg['complexityRegWeight'] = np.logspace(-4,-3,cfg['maxNodes'].shape[1])\n",
    "cfg['normRegWeight'] = np.dot(np.array(0.1),np.ones(np.size(cfg['maxNodes']))) #beta\n",
    "cfg['augment'] = True\n",
    "cfg['augmentLayers'] = True\n",
    "cfg['activationFunction'] = 'tanh'\n",
    "cfg['numEpochs'] = 300\n",
    "cfg['big_lambda'] = 1.01\n",
    "cfg['featureMap'] = []\n",
    "\n",
    "cfg['lossFunction'] = 'binary'\n",
    "cfg['surrogateLoss'] = 'logistic'\n",
    "cfg['javier'] = True"
   ]
  },
  {
   "cell_type": "code",
   "execution_count": 235,
   "metadata": {
    "collapsed": true
   },
   "outputs": [],
   "source": [
    "xs = twospirals(44100,540*1,0,1)\n",
    "ys = 2*(xs[:,-1])-1\n",
    "xs = xs[:,:-1] # python starts at 0, by slicing the end argument is not accounted MATLAB 1:end-1 == Python :-1"
   ]
  },
  {
   "cell_type": "code",
   "execution_count": 246,
   "metadata": {
    "collapsed": true
   },
   "outputs": [],
   "source": [
    "adaParams,history = adanet(xs, ys, cfg)"
   ]
  },
  {
   "cell_type": "code",
   "execution_count": null,
   "metadata": {
    "collapsed": true
   },
   "outputs": [],
   "source": []
  },
  {
   "cell_type": "code",
   "execution_count": null,
   "metadata": {
    "collapsed": true
   },
   "outputs": [],
   "source": []
  },
  {
   "cell_type": "code",
   "execution_count": 126,
   "metadata": {
    "collapsed": true
   },
   "outputs": [],
   "source": [
    "def twospirals(*args):  #N, degrees, start, noise\n",
    "# Generate \"two spirals\" dataset with N instances.\n",
    "# degrees controls the length of the spirals\n",
    "# start determines how far from the origin the spirals start, in degrees\n",
    "# noise displaces the instances from the spiral. \n",
    "#  0 is no noise, at 1 the spirals will start overlapping\n",
    "\n",
    "    if len(args) < 1:\n",
    "        N = 2000\n",
    "    else:\n",
    "        N = args[0]\n",
    "    if len(args) < 2:\n",
    "        degrees = 570\n",
    "    else:\n",
    "        degrees = args[1]\n",
    "    if len(args) < 3:\n",
    "        start = 90\n",
    "    else:\n",
    "        start = args[2]\n",
    "    if len(args) < 5:\n",
    "        noise = 0.2\n",
    "    else:\n",
    "        noise = args[3]\n",
    "    \n",
    "    deg2rad = (2*math.pi)/360\n",
    "    start = start * deg2rad\n",
    "\n",
    "    N1 = math.floor(N/2)\n",
    "    N2 = N-N1\n",
    "    \n",
    "    n = start + np.dot(np.dot(np.sqrt(np.random.random((N1,1))),degrees),deg2rad)\n",
    "    d1 = np.hstack([-np.cos(n)*n + np.dot(np.random.random((N1,1)),noise),np.sin(n)*n+np.dot(np.random.random((N1,1)),noise),np.zeros((N1,1))])\n",
    "    \n",
    "    n = start + np.dot(np.dot(np.sqrt(np.random.random((N1,1))),degrees),deg2rad)   \n",
    "    d2 = np.hstack([np.cos(n)*n + np.dot(np.random.random((N2,1)),noise),-np.sin(n)*n+np.dot(np.random.random((N2,1)),noise),np.ones((N2,1),float)])\n",
    "    \n",
    "    data = np.vstack((d1,d2))\n",
    "    return data"
   ]
  },
  {
   "cell_type": "code",
   "execution_count": 81,
   "metadata": {
    "collapsed": true
   },
   "outputs": [],
   "source": [
    "N=44100\n",
    "degrees=540\n",
    "start=0\n",
    "noise=1\n",
    "N1 = math.floor(N/2)\n",
    "N2 = N-N1\n",
    "deg2rad = (2*math.pi)/360\n",
    "degrees = 570\n",
    "noise = 0.2"
   ]
  },
  {
   "cell_type": "code",
   "execution_count": 253,
   "metadata": {
    "collapsed": true
   },
   "outputs": [],
   "source": [
    "#%% Activation function\n",
    "def activation(h,afunc):\n",
    "    choices = {'relu': np.maximum(0,h), 'tanh': np.tanh(h), 'sigmoid': 1./(1+np.exp(-h))}\n",
    "    a = choices.get(afunc, h)\n",
    "    #        error('activation function not supported')\n",
    "    return a"
   ]
  },
  {
   "cell_type": "code",
   "execution_count": 159,
   "metadata": {
    "collapsed": true
   },
   "outputs": [],
   "source": [
    "# gradient of surrogate loss function\n",
    "def slgrad(x, func):\n",
    "    choices = {'logistic': np.exp(x)/(1+np.exp(x)), 'exp': np.exp(x)}\n",
    "    valG = choices.get(func, x)\n",
    "    return valG"
   ]
  },
  {
   "cell_type": "code",
   "execution_count": null,
   "metadata": {
    "collapsed": true
   },
   "outputs": [],
   "source": []
  },
  {
   "cell_type": "code",
   "execution_count": 160,
   "metadata": {
    "collapsed": true
   },
   "outputs": [],
   "source": [
    "# surrogate loss function\n",
    "def slfunc(x, func):\n",
    "    choices = {'logistic': np.log(1+np.exp(x)), 'exp': np.exp(x)}\n",
    "    val = choices.get(func, x)\n",
    "    return val"
   ]
  },
  {
   "cell_type": "code",
   "execution_count": null,
   "metadata": {
    "collapsed": true
   },
   "outputs": [],
   "source": [
    "%% Loss Function\n",
    "function [loss,grad] = loss_function(w_k, h_k, reg_k, y, loss_notk,reg_notk, surrloss,lossfunc)\n",
    "m = size(y,1);\n",
    "switch lossfunc\n",
    "    case 'binary'\n",
    "        farg = 1 - loss_notk - w_k*h_k.*y;\n",
    "        loss = 1/m * sum(slfunc(farg,surrloss)) + reg_notk + reg_k*abs(w_k);\n",
    "        grad = -1/m * sum(slgrad(farg,surrloss).*y.*h_k) + sign(w_k)*reg_k;\n",
    "%     case 'MSE'\n",
    "%         farg = loss_notk + abs(w_k*h_k - y).^2;\n",
    "%         loss = 1/m * sum(farg) + reg_notk + reg_k*abs(w_k).^2;\n",
    "%         grad = ( -1/m * sum(farg.*h_k) +sign(w_k)*reg_k);\n",
    "end\n",
    "end"
   ]
  },
  {
   "cell_type": "code",
   "execution_count": 161,
   "metadata": {
    "collapsed": true
   },
   "outputs": [],
   "source": [
    "# Loss Function\n",
    "def loss_function(w_k, h_k, reg_k, y, loss_notk,reg_notk, surrloss,lossfunc):\n",
    "    m = np.size(y)\n",
    "    if lossfunc == 'binary':\n",
    "        farg = 1 - loss_notk - np.dot(w_k,h_k)*y\n",
    "        loss = 1/m * slfunc(farg,surrloss).sum(axis=0) + reg_notk + np.dot(reg_k,np.abs(w_k))\n",
    "        grad = -1/m * (slgrad(farg,surrloss)*y*h_k).sum(axis=0) + np.dot(np.sign(w_k),reg_k)\n",
    "#     case 'MSE'\n",
    "#         farg = loss_notk + abs(w_k*h_k - y).^2;\n",
    "#         loss = 1/m * sum(farg) + reg_notk + reg_k*abs(w_k).^2;\n",
    "#         grad = ( -1/m * sum(farg.*h_k) +sign(w_k)*reg_k);\n",
    "    return loss,grad"
   ]
  },
  {
   "cell_type": "code",
   "execution_count": null,
   "metadata": {
    "collapsed": true
   },
   "outputs": [],
   "source": []
  },
  {
   "cell_type": "code",
   "execution_count": 279,
   "metadata": {
    "collapsed": true
   },
   "outputs": [],
   "source": [
    "# Initialization function\n",
    "# implementation of Init method, Figure 5,  pg 15\n",
    "def adanet_init(numExamples,numInputNodes,cfg):\n",
    "\n",
    "# Initialize output weights (w)\n",
    "    maxNodes = cfg['maxNodes']  # == shape=(1,5) [50,50,50,50,50] \n",
    "    maxLayers = max(cfg['maxNodes'].shape)  #length(cfg.maxNodes); ==5\n",
    "    W = {} #W = cell(maxLayers,1);\n",
    "    for k in range(maxLayers):  # for k = 1:maxLayers\n",
    "        W[k] = np.zeros((np.int(maxNodes[0,k]),1))   #  W{k} = zeros(maxNodes(k),1);\n",
    "\n",
    "# Assign current number of nodes and layers\n",
    "    numLayers = 0    # number of hidden layers (no input or output layer considered)\n",
    "    numNodes = np.zeros((max(maxNodes.shape),1)) # == shape=(5,1) zeros(length(maxNodes),1); #number of nodes in the hidden layers\n",
    "\n",
    "# Initialize feed-in weights (u)\n",
    "    u = {} # u = cell(1,1);\n",
    "    #???u[0] = np.zeros((numInputNodes,1))       #% u{1} = zeros(numInputNodes,1);\n",
    "\n",
    "#% Create initial distribution (uniform)\n",
    "    D = np.dot(1/numExamples, np.ones((numExamples,1))) # D = 1/numExamples * ones(numExamples,1);\n",
    "\n",
    "    adaInit = {}\n",
    "\n",
    "    adaInit['W'] = W\n",
    "    adaInit['W_bias'] = 0\n",
    "    adaInit['u'] = u\n",
    "    adaInit['D'] = D\n",
    "    adaInit['S'] = numExamples\n",
    "    adaInit['errLoss'] = W  # %same shape as W (maybe??)\n",
    "    adaInit['numLayers'] = numLayers\n",
    "    adaInit['maxLayers']= maxLayers\n",
    "    adaInit['numNodes'] = numNodes\n",
    "    adaInit['maxNodes'] = maxNodes\n",
    "    #%cfg.pnorm = max(1.001,cfg.pnorm);\n",
    "    adaInit['qnorm'] = 1/(1-1/cfg['pnorm']) #adaInit.qnorm = 1/(1-1/cfg.pnorm);\n",
    "    adaInit['complexityRegWeight'] = cfg['complexityRegWeight'] #%lambda\n",
    "    adaInit['normRegWeight'] = cfg['normRegWeight'] # %beta\n",
    "    adaInit['surrogateLoss'] = cfg['surrogateLoss']\n",
    "    adaInit['lossFunction'] = cfg['lossFunction']\n",
    "    adaInit['maxWeightMag'] = cfg['maxWeightMag']\n",
    "    adaInit['maxBiasMag'] = cfg['maxBiasMag']\n",
    "    adaInit['activationFunction'] = cfg['activationFunction']\n",
    "    adaInit['augment'] = cfg['augment']\n",
    "    adaInit['augmentLayers'] = cfg['augmentLayers']\n",
    "    adaInit['featureMap'] = cfg['featureMap']\n",
    "    return adaInit"
   ]
  },
  {
   "cell_type": "code",
   "execution_count": 162,
   "metadata": {
    "collapsed": true
   },
   "outputs": [],
   "source": [
    "maxNodes = cfg['maxNodes']\n",
    "maxLayers = cfg['maxNodes'].shape[1]"
   ]
  },
  {
   "cell_type": "code",
   "execution_count": null,
   "metadata": {
    "collapsed": true
   },
   "outputs": [],
   "source": [
    "\n",
    "    W = cell(maxLayers,1);\n",
    "    for k in range(maxLayers):\n",
    "        W{k} = zeros(maxNodes(k),1)"
   ]
  },
  {
   "cell_type": "code",
   "execution_count": 200,
   "metadata": {
    "collapsed": true
   },
   "outputs": [],
   "source": [
    "W = [np.empty([maxLayers,1])]\n"
   ]
  },
  {
   "cell_type": "code",
   "execution_count": 201,
   "metadata": {
    "collapsed": true
   },
   "outputs": [],
   "source": [
    "W[0] = np.zeros((np.int(maxNodes[0,0]),1))"
   ]
  },
  {
   "cell_type": "code",
   "execution_count": 206,
   "metadata": {},
   "outputs": [
    {
     "name": "stdout",
     "output_type": "stream",
     "text": [
      "0\n",
      "1\n"
     ]
    },
    {
     "ename": "IndexError",
     "evalue": "list assignment index out of range",
     "output_type": "error",
     "traceback": [
      "\u001b[1;31m---------------------------------------------------------------------------\u001b[0m",
      "\u001b[1;31mIndexError\u001b[0m                                Traceback (most recent call last)",
      "\u001b[1;32m<ipython-input-206-6f39e931f211>\u001b[0m in \u001b[0;36m<module>\u001b[1;34m()\u001b[0m\n\u001b[0;32m      2\u001b[0m \u001b[1;32mfor\u001b[0m \u001b[0mk\u001b[0m \u001b[1;32min\u001b[0m \u001b[0mrange\u001b[0m\u001b[1;33m(\u001b[0m\u001b[0mmaxLayers\u001b[0m\u001b[1;33m)\u001b[0m\u001b[1;33m:\u001b[0m\u001b[1;33m\u001b[0m\u001b[0m\n\u001b[0;32m      3\u001b[0m     \u001b[0mprint\u001b[0m\u001b[1;33m(\u001b[0m\u001b[0mk\u001b[0m\u001b[1;33m)\u001b[0m\u001b[1;33m\u001b[0m\u001b[0m\n\u001b[1;32m----> 4\u001b[1;33m     \u001b[0mW\u001b[0m\u001b[1;33m[\u001b[0m\u001b[0mk\u001b[0m\u001b[1;33m]\u001b[0m \u001b[1;33m=\u001b[0m \u001b[0mnp\u001b[0m\u001b[1;33m.\u001b[0m\u001b[0mzeros\u001b[0m\u001b[1;33m(\u001b[0m\u001b[1;33m(\u001b[0m\u001b[0mnp\u001b[0m\u001b[1;33m.\u001b[0m\u001b[0mint\u001b[0m\u001b[1;33m(\u001b[0m\u001b[0mmaxNodes\u001b[0m\u001b[1;33m[\u001b[0m\u001b[1;36m0\u001b[0m\u001b[1;33m,\u001b[0m\u001b[0mk\u001b[0m\u001b[1;33m]\u001b[0m\u001b[1;33m)\u001b[0m\u001b[1;33m,\u001b[0m\u001b[1;36m1\u001b[0m\u001b[1;33m)\u001b[0m\u001b[1;33m)\u001b[0m\u001b[1;33m\u001b[0m\u001b[0m\n\u001b[0m",
      "\u001b[1;31mIndexError\u001b[0m: list assignment index out of range"
     ]
    }
   ],
   "source": [
    "W = [np.empty([maxLayers,1])]\n",
    "for k in range(maxLayers):\n",
    "    print(k)\n",
    "    W[k] = np.zeros((np.int(maxNodes[0,k]),1))"
   ]
  },
  {
   "cell_type": "code",
   "execution_count": 245,
   "metadata": {
    "collapsed": true
   },
   "outputs": [],
   "source": [
    "#%% Main function for adanet\n",
    "def adanet(Xdata,ydata, cfg):\n",
    "    history = {}\n",
    "    history['newL'] = [];\n",
    "    history['numL'] = [];\n",
    "    history['newN'] = [];\n",
    "    history['numN'] = [];\n",
    "    history['jk_best'] = [];\n",
    "    history['Wt'] = {};\n",
    "    history['ut'] = {};\n",
    "    history['W_bias'] = [];\n",
    "    history['activationFunction'] = cfg['activationFunction']\n",
    "\n",
    "#%Xdata = [Xdata, Xdata.^2, prod(Xdata,2)];\n",
    "#if ~isempty(cfg.featureMap);\n",
    "#    Xdata = cfg.featureMap(Xdata);\n",
    "    if len(cfg['featureMap'])!=0:\n",
    "        Xdata = cfg['featureMap'][Xdata]\n",
    "    if cfg['augment']:\n",
    "        Xdata = np.hstack((np.ones((Xdata.shape[0],1)),Xdata))      #  Xdata = [ones(size(Xdata,1),1),Xdata];\n",
    "    if cfg['augment'] and cfg['augmentLayers']:\n",
    "        Xdata = Xdata[:,1:] #Xdata = Xdata(:,2:end); #%revert Xdata! We will account for it in NewNodes\n",
    "\n",
    "    numExamples = Xdata.shape[0] #size(Xdata,1); #% number of training examples (m)\n",
    "    numInputNodes = Xdata.shape[1] #size(Xdata,2);\n",
    "\n",
    "    if ydata.shape[0] != numExamples:    #size(ydata,1) ~= numExamples\n",
    "       raise Exception('dim check', 'Xdata and ydata must have same number of examples (i.e. rows)')\n",
    "\n",
    "    adaParams = adanet_init(numExamples,numInputNodes,cfg) #%see below\n",
    "\n",
    "    adaParams['lossStore'] = []\n",
    "    adaParams['numInputNodes'] = numInputNodes\n",
    "    adaParams['numOutputNodes'] = 1 #ydata.shape[1] has only 1dim, in cases of more labels will have relevant value #size(ydata,2);\n",
    "    T = cfg['numEpochs'] #% num rounds from paper\n",
    "\n",
    "    xloss_end = round(numExamples/2)\n",
    "    step=0\n",
    "    for t in range(T):\n",
    "        idcs_t = np.random.permutation(range(numExamples)) #idcs_t = randperm(numExamples); #% shuffle samples uniformly every epoch\n",
    "    #% split data into two mini batches, one for loss, one for finding new\n",
    "    #% nodes (Appendix E, page 17)\n",
    "    #%     Xloss = Xdata(1:xloss_end,:);\n",
    "    #%     Xnewnodes = Xdata(xloss_end+1:end,:);\n",
    "        lossIdcs = idcs_t[:xloss_end] #lossIdcs = idcs_t(1:xloss_end);\n",
    "        newIdcs = idcs_t[xloss_end:] #newIdcs = idcs_t(xloss_end:end);\n",
    "    #% N = sum(adaParams.numNodes);\n",
    "    \n",
    "    #% Compute Forward Pass + Complexity Measures\n",
    "        numLayers = adaParams['numLayers']\n",
    "    \n",
    "        H = {} #H = cell(numLayers,1);  % hidden unit values per layer\n",
    "        Rloss = np.zeros((numLayers+1,1)) #Rloss = zeros(numLayers+1,1); % complexity measures per layer\n",
    "        Rnew = Rloss.copy()\n",
    "        W = adaParams['W']\n",
    "        u = adaParams['u']\n",
    "        for k in range(numLayers):\n",
    "            if k == 0:  # k==1\n",
    "                Hk = Xdata\n",
    "                actFunc = 'none'\n",
    "            else:\n",
    "                Hk = H[k-1]   #H{k-1}\n",
    "                actFunc = adaParams['activationFunction']\n",
    "\n",
    "            if adaParams['augmentLayers']:\n",
    "                Hk = np.hstack((np.ones((Hk.shape[0],1)),Hk))   # Hk = [ones(size(Hk,1),1),Hk];\n",
    "                \n",
    "            H[k] = np.dot(activation(Hk,actFunc),u[k])  #H{k} = activation(Hk,actFunc)*u{k};\n",
    "            #% Calculate loss function\n",
    "            if cfg['lossFunction'] == 'binary':\n",
    "                Rloss(k) = RademacherComplexity(H{k}(lossIdcs,:));  #Rloss(k) = RademacherComplexity(H{k}(lossIdcs,:));\n",
    "                Rnew(k) = RademacherComplexity(H{k}(newIdcs,:));  #Rnew(k) = RademacherComplexity(H{k}(newIdcs,:));\n",
    "   # %             case 'MSE'\n",
    "   # %                 Rloss(k) = GaussianComplexity(H{k}(lossIdcs,:)); %equivalent with gaussian, instead of binary, noise\n",
    "   # %                 Rnew(k) = GaussianComplexity(H{k}(newIdcs,:));\n",
    "            else:\n",
    "                error('loss not supported')\n",
    "\n",
    "            Rloss(k) = reg(Rloss(k),adaParams.complexityRegWeight(k),adaParams.normRegWeight(k));\n",
    "            Rnew(k) = reg(Rnew(k),adaParams.complexityRegWeight(k),adaParams.normRegWeight(k));\n",
    "        end\n",
    "\n",
    "        % score the existing nodes in the network\n",
    "        [d_kj, d_bias] = ExistingNodes;  % pg 7, line 3\n",
    "        [dn_k, un_k] = NewNodes; %pg 7, line 4\n",
    "        [jk_best, e_t, numLayers, numNodes] = BestNode; %pg 7, line 5\n",
    "        adaParams.numLayers = numLayers;\n",
    "        adaParams.numNodes = numNodes;\n",
    "        adaParams.u = u;\n",
    "        % Move forward a step and update distributions\n",
    "        Wt = ApplyStep(jk_best,adaParams.surrogateLoss);\n",
    "        [Dt,St] = updateDistribution(Wt);\n",
    "        % Pack things back into adaParams\n",
    "        adaParams.D = Dt;\n",
    "        adaParams.S = St;\n",
    "        adaParams.W = Wt;\n",
    "        adaParams.errLoss = e_t;\n",
    "\n",
    "        % Store history for debugging only\n",
    "        history.Wt{end+1} = adaParams.W;\n",
    "        history.ut{end+1} = adaParams.u;\n",
    "        history.numL(end+1) = numLayers;\n",
    "        history.numN(end+1,:) = adaParams.numNodes;\n",
    "\n",
    "        fComplete = 0;\n",
    "        for k = 1:numLayers\n",
    "            for j = 1:numNodes(k)\n",
    "                fComplete = fComplete + W{k}(j)*H{k}(:,j);\n",
    "            end\n",
    "        end\n",
    "        fComplete = fComplete + adaParams.W_bias;\n",
    "        switch cfg.lossFunction\n",
    "            case 'binary'\n",
    "                adaParams.lossStore(end+1) = mean(slfunc(1-ydata.*fComplete, adaParams.surrogateLoss));\n",
    "    %         case 'MSE'\n",
    "    %             adaParams.lossStore(end+1) =mean(abs(ydata - fComplete).^2);\n",
    "        end\n",
    "        plotEpochs = 5;\n",
    "        if mod(step,plotEpochs)==0\n",
    "            figure(2), plot(adaParams.lossStore)\n",
    "            titleStr = 'numNodes = (';\n",
    "            for ni = 1:length(numNodes)-1,\n",
    "                titleStr = sprintf([titleStr,'%d,'],numNodes(ni));\n",
    "            end\n",
    "            titleStr = sprintf([titleStr,'%d)'],numNodes(end));\n",
    "            title(titleStr)\n",
    "            pause(.1)\n",
    "        end\n",
    "        step = step+1;\n",
    "\n",
    "\n",
    "\n",
    "    end\n",
    "    return adaParams,history"
   ]
  },
  {
   "cell_type": "code",
   "execution_count": 330,
   "metadata": {
    "collapsed": true
   },
   "outputs": [],
   "source": [
    "xloss_end = round(numExamples/2)\n",
    "step=0\n",
    "\n",
    "idcs_t = np.random.permutation(range(numExamples)) #idcs_t = randperm(numExamples); #% shuffle samples uniformly every epoch\n",
    "#% split data into two mini batches, one for loss, one for finding new\n",
    "#% nodes (Appendix E, page 17)\n",
    "#%     Xloss = Xdata(1:xloss_end,:);\n",
    "#%     Xnewnodes = Xdata(xloss_end+1:end,:);\n",
    "lossIdcs = idcs_t[:xloss_end] #lossIdcs = idcs_t(1:xloss_end);\n",
    "newIdcs = idcs_t[xloss_end:] #newIdcs = idcs_t(xloss_end:end);"
   ]
  },
  {
   "cell_type": "code",
   "execution_count": 527,
   "metadata": {
    "collapsed": true
   },
   "outputs": [],
   "source": [
    "#%% Complexity functions\n",
    "def RademacherComplexity(H):\n",
    "    M = H.shape[0] #M = size(H,1);\n",
    "    radNoise = np.random.standard_normal((M,1))  #radNoise = randn(M,1);\n",
    "    radNoise[radNoise <= 0] = -1\n",
    "    radNoise[radNoise > 0] = 1\n",
    "\n",
    "    R = 1/M*np.dot(radNoise.conj().transpose(),H.sum(axis=1))  #R = 1/M*radNoise'*sum(H,2);\n",
    "\n",
    "    return R"
   ]
  },
  {
   "cell_type": "code",
   "execution_count": 249,
   "metadata": {},
   "outputs": [
    {
     "data": {
      "text/plain": [
       "array([2, 8, 7, 5, 6, 4, 0, 1, 9, 3])"
      ]
     },
     "execution_count": 249,
     "metadata": {},
     "output_type": "execute_result"
    }
   ],
   "source": [
    "    if cfg['augment']:\n",
    "        Xdata = np.hstack((np.ones((Xdata.shape[0],1)),Xdata))      #  Xdata = [ones(size(Xdata,1),1),Xdata];\n",
    "    if cfg['augment'] and cfg['augmentLayers']:\n",
    "        Xdata = Xdata[:,1:]"
   ]
  },
  {
   "cell_type": "code",
   "execution_count": 519,
   "metadata": {
    "collapsed": true
   },
   "outputs": [],
   "source": [
    "radNoise = np.random.standard_normal((3,1))"
   ]
  },
  {
   "cell_type": "code",
   "execution_count": 522,
   "metadata": {},
   "outputs": [
    {
     "data": {
      "text/plain": [
       "array([[-0.74012907],\n",
       "       [-0.14266716],\n",
       "       [ 0.25564079]])"
      ]
     },
     "execution_count": 522,
     "metadata": {},
     "output_type": "execute_result"
    }
   ],
   "source": [
    "radNoise[radNoise <= 0] = -1"
   ]
  },
  {
   "cell_type": "code",
   "execution_count": 523,
   "metadata": {
    "collapsed": true
   },
   "outputs": [],
   "source": [
    "radNoise[radNoise <= 0] = -1"
   ]
  },
  {
   "cell_type": "code",
   "execution_count": 526,
   "metadata": {},
   "outputs": [
    {
     "data": {
      "text/plain": [
       "array([[-1.],\n",
       "       [-1.],\n",
       "       [ 1.]])"
      ]
     },
     "execution_count": 526,
     "metadata": {},
     "output_type": "execute_result"
    }
   ],
   "source": [
    "radNoise"
   ]
  },
  {
   "cell_type": "code",
   "execution_count": 525,
   "metadata": {
    "collapsed": true
   },
   "outputs": [],
   "source": [
    "R = 1/3*np.dot(radNoise.conj().transpose(),H.sum(axis=1))"
   ]
  },
  {
   "cell_type": "code",
   "execution_count": 560,
   "metadata": {
    "collapsed": true
   },
   "outputs": [],
   "source": [
    "test = {}"
   ]
  },
  {
   "cell_type": "code",
   "execution_count": 566,
   "metadata": {
    "collapsed": true
   },
   "outputs": [],
   "source": [
    "if test.get(0,1) == 1:\n",
    "    test[0] = -1\n",
    "else:\n",
    "    test[max(test.keys()) + 1] = 'holla'"
   ]
  },
  {
   "cell_type": "code",
   "execution_count": 567,
   "metadata": {},
   "outputs": [
    {
     "data": {
      "text/plain": [
       "{0: -1, 1: 'holla', 2: 'holla'}"
      ]
     },
     "execution_count": 567,
     "metadata": {},
     "output_type": "execute_result"
    }
   ],
   "source": [
    "test"
   ]
  },
  {
   "cell_type": "code",
   "execution_count": 379,
   "metadata": {},
   "outputs": [
    {
     "data": {
      "text/plain": [
       "array([0.74918961, 1.92843202])"
      ]
     },
     "execution_count": 379,
     "metadata": {},
     "output_type": "execute_result"
    }
   ],
   "source": [
    "Xdata[0]"
   ]
  },
  {
   "cell_type": "code",
   "execution_count": 380,
   "metadata": {
    "collapsed": true
   },
   "outputs": [],
   "source": [
    "numExamples = Xdata.shape[0] #size(Xdata,1); #% number of training examples (m)\n",
    "numInputNodes = Xdata.shape[1]"
   ]
  },
  {
   "cell_type": "code",
   "execution_count": 381,
   "metadata": {},
   "outputs": [
    {
     "data": {
      "text/plain": [
       "44100"
      ]
     },
     "execution_count": 381,
     "metadata": {},
     "output_type": "execute_result"
    }
   ],
   "source": [
    "numExamples"
   ]
  },
  {
   "cell_type": "code",
   "execution_count": 424,
   "metadata": {},
   "outputs": [
    {
     "data": {
      "text/plain": [
       "array([[0.]])"
      ]
     },
     "execution_count": 424,
     "metadata": {},
     "output_type": "execute_result"
    }
   ],
   "source": [
    "np.zeros((numLayers+1,1))"
   ]
  },
  {
   "cell_type": "code",
   "execution_count": 383,
   "metadata": {
    "collapsed": true
   },
   "outputs": [],
   "source": [
    "numLayers = 0"
   ]
  },
  {
   "cell_type": "code",
   "execution_count": 269,
   "metadata": {
    "collapsed": true
   },
   "outputs": [],
   "source": [
    "Rloss = np.zeros((numLayers+1,1))"
   ]
  },
  {
   "cell_type": "code",
   "execution_count": 271,
   "metadata": {},
   "outputs": [
    {
     "data": {
      "text/plain": [
       "(1, 1)"
      ]
     },
     "execution_count": 271,
     "metadata": {},
     "output_type": "execute_result"
    }
   ],
   "source": [
    "Rloss.shape"
   ]
  },
  {
   "cell_type": "code",
   "execution_count": 425,
   "metadata": {
    "collapsed": true
   },
   "outputs": [],
   "source": [
    "Rnew = Rloss.copy()"
   ]
  },
  {
   "cell_type": "code",
   "execution_count": 272,
   "metadata": {
    "collapsed": true
   },
   "outputs": [],
   "source": [
    "Hk = Xdata\n",
    "actFunc = 'none'"
   ]
  },
  {
   "cell_type": "code",
   "execution_count": 273,
   "metadata": {
    "collapsed": true
   },
   "outputs": [],
   "source": [
    "Hk = np.hstack((np.ones((Hk.shape[0],1)),Hk))"
   ]
  },
  {
   "cell_type": "code",
   "execution_count": 275,
   "metadata": {},
   "outputs": [
    {
     "data": {
      "text/plain": [
       "array([1.        , 0.74918961, 1.92843202])"
      ]
     },
     "execution_count": 275,
     "metadata": {},
     "output_type": "execute_result"
    }
   ],
   "source": [
    "Hk[0]"
   ]
  },
  {
   "cell_type": "code",
   "execution_count": 277,
   "metadata": {
    "collapsed": true
   },
   "outputs": [],
   "source": [
    "H = {}"
   ]
  },
  {
   "cell_type": "code",
   "execution_count": 282,
   "metadata": {
    "collapsed": true
   },
   "outputs": [],
   "source": [
    "u = {} # u = cell(1,1);\n",
    "u[0] = np.zeros((numInputNodes,1))  \n",
    "k=0"
   ]
  },
  {
   "cell_type": "code",
   "execution_count": 283,
   "metadata": {},
   "outputs": [
    {
     "ename": "ValueError",
     "evalue": "shapes (44100,3) and (2,1) not aligned: 3 (dim 1) != 2 (dim 0)",
     "output_type": "error",
     "traceback": [
      "\u001b[1;31m---------------------------------------------------------------------------\u001b[0m",
      "\u001b[1;31mValueError\u001b[0m                                Traceback (most recent call last)",
      "\u001b[1;32m<ipython-input-283-bf617a3e7e1b>\u001b[0m in \u001b[0;36m<module>\u001b[1;34m()\u001b[0m\n\u001b[1;32m----> 1\u001b[1;33m \u001b[0mH\u001b[0m\u001b[1;33m[\u001b[0m\u001b[0mk\u001b[0m\u001b[1;33m]\u001b[0m \u001b[1;33m=\u001b[0m \u001b[0mnp\u001b[0m\u001b[1;33m.\u001b[0m\u001b[0mdot\u001b[0m\u001b[1;33m(\u001b[0m\u001b[0mactivation\u001b[0m\u001b[1;33m(\u001b[0m\u001b[0mHk\u001b[0m\u001b[1;33m,\u001b[0m\u001b[0mactFunc\u001b[0m\u001b[1;33m)\u001b[0m\u001b[1;33m,\u001b[0m\u001b[0mu\u001b[0m\u001b[1;33m[\u001b[0m\u001b[0mk\u001b[0m\u001b[1;33m]\u001b[0m\u001b[1;33m)\u001b[0m\u001b[1;33m\u001b[0m\u001b[0m\n\u001b[0m",
      "\u001b[1;31mValueError\u001b[0m: shapes (44100,3) and (2,1) not aligned: 3 (dim 1) != 2 (dim 0)"
     ]
    }
   ],
   "source": [
    "H[k] = np.dot(activation(Hk,actFunc),u[k])"
   ]
  },
  {
   "cell_type": "code",
   "execution_count": 287,
   "metadata": {},
   "outputs": [
    {
     "data": {
      "text/plain": [
       "(44100, 3)"
      ]
     },
     "execution_count": 287,
     "metadata": {},
     "output_type": "execute_result"
    }
   ],
   "source": [
    "activation(Hk,actFunc).shape"
   ]
  },
  {
   "cell_type": "code",
   "execution_count": 289,
   "metadata": {},
   "outputs": [
    {
     "data": {
      "text/plain": [
       "array([[0.],\n",
       "       [0.]])"
      ]
     },
     "execution_count": 289,
     "metadata": {},
     "output_type": "execute_result"
    }
   ],
   "source": [
    "u[k]"
   ]
  },
  {
   "cell_type": "code",
   "execution_count": null,
   "metadata": {
    "collapsed": true
   },
   "outputs": [],
   "source": []
  },
  {
   "cell_type": "code",
   "execution_count": 314,
   "metadata": {},
   "outputs": [
    {
     "data": {
      "text/plain": [
       "dict_keys(['W', 'W_bias', 'u', 'D', 'S', 'errLoss', 'numLayers', 'maxLayers', 'numNodes', 'maxNodes', 'qnorm', 'complexityRegWeight', 'normRegWeight', 'surrogateLoss', 'lossFunction', 'maxWeightMag', 'maxBiasMag', 'activationFunction', 'augment', 'augmentLayers', 'featureMap', 'lossStore', 'numInputNodes', 'numOutputNodes'])"
      ]
     },
     "execution_count": 314,
     "metadata": {},
     "output_type": "execute_result"
    }
   ],
   "source": [
    "adaParams.keys()"
   ]
  },
  {
   "cell_type": "code",
   "execution_count": 316,
   "metadata": {},
   "outputs": [
    {
     "data": {
      "text/plain": [
       "(5, 1)"
      ]
     },
     "execution_count": 316,
     "metadata": {},
     "output_type": "execute_result"
    }
   ],
   "source": [
    "adaParams['numNodes'].shape"
   ]
  },
  {
   "cell_type": "code",
   "execution_count": 518,
   "metadata": {
    "collapsed": true
   },
   "outputs": [],
   "source": [
    "# New nodes function\n",
    "def NewNodes():\n",
    "    global errNew\n",
    "    numNodes = adaParams['numNodes']\n",
    "    maxNodes = adaParams['maxNodes']  # shape=(1,5) , [50,50,50,50,50]\n",
    "    q = adaParams['qnorm']\n",
    "    p = cfg['pnorm']\n",
    "    idx = np.minimum(numLayers+1,adaParams['maxLayers'])\n",
    "    errNew = {} # cell(idx,1);\n",
    "    un_k = {} # cell(idx,1);\n",
    "    dn_k = {} # cell(idx,1);\n",
    "\n",
    "    Dnew = adaParams['D'][newIdcs,0] #adaParams.D(newIdcs);\n",
    "    Dnew = Dnew/Dnew.sum(axis=0) # Dnew./sum(Dnew);\n",
    "    m = max(newIdcs.shape) # length(newIdcs);\n",
    "    S = adaParams['S']  # number of samples (44100)\n",
    "    if cfg['javier']:\n",
    "        # adding per J.Gonzalva recommendation\n",
    "        big_lambdas = np.zeros((adaParams['maxLayers'],1),float)  # ==shape(5,1) big_lambdas = zeros(adaParams.maxLayers,1)  \n",
    "        for n in range(-1,adaParams['maxLayers']-1):  #for n = 0:adaParams.maxLayers-1 => 0..4\n",
    "            if n == -1:                              # if n == 0\n",
    "                n_i=adaParams['numInputNodes']\n",
    "            else:\n",
    "                n_i = maxNodes[0,n]    # maxNodes(n)\n",
    "                big_lambdas[n] = cfg['big_lambda']/n_i**(1/q)     # cfg.big_lambda/n_i^(1/q);\n",
    "\n",
    "    for k in range (idx):   #for k = 1:idx                                       # pg 8, Fig 4, Line 1\n",
    "        if not(cfg['javier']):   #if ~cfg.javier\n",
    "            Ck = cfg['maxWeightMag'][k]  # shape=(5,) [10,10,10,10,10]   Ck = cfg.maxWeightMag(k); \n",
    "            Lambda_k = cfg['maxWeightNorms'][k]   # shape=(5,) [10,10,10,10,10] Lambda_k = cfg.maxWeightNorms(k);\n",
    "        else:\n",
    "            Ck = Rnew[k]/4**(k-1) #  Ck = Rnew(k)/4^(k-1); % per Javier's recommendation\n",
    "            Lambda_k = big_lambdas[k]  #Lambda_k = big_lambdas(k);\n",
    "         # % adding per J.Gonzalva recommendation\n",
    "\n",
    "        if k==0:   #if k==1, \n",
    "            nodeNum_km1 = numInputNodes  #nodeNum_km1 = numInputNodes;\n",
    "            Hk = Xdata  #Hk = Xdata;\n",
    "            actFunc = 'none'\n",
    "        else:\n",
    "            nodeNum_km1 = numNodes[k-1]  #nodeNum_km1 = numNodes(k-1);\n",
    "            Hk = H[k-1]  # Hk = H{k-1};\n",
    "            actFunc = adaParams['activationFunction']\n",
    "\n",
    "        if (numNodes[k] < maxNodes[k]) and (nodeNum_km1 > 0):  #if (numNodes(k) < maxNodes(k)) && (nodeNum_km1 > 0)   %pg 8, Fig 4, line 2\n",
    "            if adaParams['augmentLayers']:\n",
    "                Hk = np.hstack((np.ones((Hk.shape[0],1)),Hk))  #Hk = [ones(size(Hk,1),1),Hk];\n",
    "   \n",
    "            if cfg['lossFunction'] == 'binary': \n",
    "                M_kminus1 = np.dot(((ydata[newIdcs].reshape(-1,1)*activation(Hk[newIdcs],actFunc)).conj().T),Dnew) #M_kminus1 = bsxfun(@times,ydata(newIdcs,:),activation(Hk(newIdcs,:),actFunc))'*Dnew;\n",
    "                M_qnorm = np.linalg.norm(M_kminus1,q)   #M_qnorm = norm(M_kminus1,q);\n",
    "                errNew[k] = Ck/2*(1-Lambda_k/Ck * M_qnorm)  #errNew{k} = Ck/2*(1-Lambda_k/Ck * M_qnorm);  % pg 8, Fig 4, line 3\n",
    "#%                     case 'MSE'\n",
    "#%                         M_kminus1 =  (abs(bsxfun(@minus,ydata(newIdcs,:),activation(Hk(newIdcs,:),actFunc))).^2)'*Dnew;\n",
    "#%                         M_qnorm = norm(M_kminus1,q);\n",
    "#%                         errNew{k} = Ck/2*(1-Lambda_k/Ck * M_qnorm);  % pg 8, Fig 4, line 3\n",
    "\n",
    "\n",
    "            if p == 1:\n",
    "                _,bMax = (np.abs(M_kminus1)).max(),(np.abs(M_kminus1)).argmax() #[~,bMax] = max(abs(M_kminus1));\n",
    "                M_normalized = np.zeros(M_kminus1.shape)  #M_normalized = zeros(size(M_kminus1));\n",
    "                M_normalized[bMax] = 1/abs(M_kminus1[bMax])  #M_normalized(bMax) = 1/abs(M_kminus1(bMax));\n",
    "                un_k[k] = Lambda_k * M_normalized*np.sign(M_kminus1)  #un_k{k} = Lambda_k * M_normalized.*sign(M_kminus1);\n",
    "            else:\n",
    "                un_k[k] =  Lambda_k * (np.abs(M_kminus1)**(q-1))*np.sign(M_kminus1)/(M_qnorm**(q/p)) # un_k{k} =  Lambda_k * (abs(M_kminus1).^(q-1)).*sign(M_kminus1)/(M_qnorm^(q/p) ); % line 4\n",
    "\n",
    "        else:\n",
    "            errNew[k] = 1/2*Ck   # errNew{k} = 1/2*Ck;  % line 5,\n",
    "\n",
    "\n",
    "        if abs(errNew[k] - 1/2*Ck) <= Rnew[k]*m/(2*S):  #if abs(errNew{k} - 1/2*Ck) <= Rnew(k)*m/(2*S)   % line 6\n",
    "            dn_k[k] = 0  # dn_k{k} = 0;                                               % line 7\n",
    "        else:\n",
    "            dn_k[k] = errNew[k] - Ck/2 - np.sign(errNew[k] - Ck/2)*Rnew[k]*m/(2*S) #dn_k{k} = errNew{k} - Ck/2 - sign(errNew{k} - Ck/2)*Rnew(k)*m/(2*S);  %line 8\n",
    "\n",
    "    return dn_k, un_k"
   ]
  },
  {
   "cell_type": "code",
   "execution_count": null,
   "metadata": {
    "collapsed": true
   },
   "outputs": [],
   "source": []
  },
  {
   "cell_type": "code",
   "execution_count": 444,
   "metadata": {
    "collapsed": true
   },
   "outputs": [],
   "source": [
    "big_lambdas = np.zeros((adaParams['maxLayers'],1),float)"
   ]
  },
  {
   "cell_type": "code",
   "execution_count": 482,
   "metadata": {
    "collapsed": true
   },
   "outputs": [],
   "source": [
    "for k in range(1):\n",
    "    Lambda_k = cfg['maxWeightNorms'][k]\n",
    "    Ck = cfg['maxWeightMag'][k]"
   ]
  },
  {
   "cell_type": "code",
   "execution_count": 462,
   "metadata": {},
   "outputs": [
    {
     "data": {
      "text/plain": [
       "array([[-1.        ,  0.8900217 ,  4.71879179],\n",
       "       [ 1.        , -0.30639893, -1.6339166 ],\n",
       "       [ 1.        ,  3.88255545, -6.13775672],\n",
       "       ...,\n",
       "       [-1.        ,  1.71377761, -7.51738881],\n",
       "       [-1.        , -4.85376002, -7.14712327],\n",
       "       [ 1.        ,  1.0274849 ,  4.92539322]])"
      ]
     },
     "execution_count": 462,
     "metadata": {},
     "output_type": "execute_result"
    }
   ],
   "source": [
    "(ydata[newIdcs].reshape(-1,1)*activation(Hk[newIdcs],actFunc))"
   ]
  },
  {
   "cell_type": "code",
   "execution_count": 470,
   "metadata": {
    "collapsed": true
   },
   "outputs": [],
   "source": [
    "M_kminus1 = np.dot(((ydata[newIdcs].reshape(-1,1)*activation(Hk[newIdcs],actFunc)).conj().T),Dnew)"
   ]
  },
  {
   "cell_type": "code",
   "execution_count": 513,
   "metadata": {
    "collapsed": true
   },
   "outputs": [],
   "source": [
    "p = cfg['pnorm']"
   ]
  },
  {
   "cell_type": "code",
   "execution_count": 474,
   "metadata": {
    "collapsed": true
   },
   "outputs": [],
   "source": [
    "M_qnorm = np.linalg.norm(M_kminus1,q)"
   ]
  },
  {
   "cell_type": "code",
   "execution_count": 494,
   "metadata": {
    "collapsed": true
   },
   "outputs": [],
   "source": [
    "_,bMax = (np.abs(M_kminus1)).max(),(np.abs(M_kminus1)).argmax()"
   ]
  },
  {
   "cell_type": "code",
   "execution_count": 496,
   "metadata": {
    "collapsed": true
   },
   "outputs": [],
   "source": [
    "M_normalized = np.zeros(M_kminus1.shape) "
   ]
  },
  {
   "cell_type": "code",
   "execution_count": 497,
   "metadata": {
    "collapsed": true
   },
   "outputs": [],
   "source": [
    "M_normalized[bMax] = 1/abs(M_kminus1[bMax])"
   ]
  },
  {
   "cell_type": "code",
   "execution_count": 516,
   "metadata": {},
   "outputs": [
    {
     "data": {
      "text/plain": [
       "array([-0.02649328, -2.09729799, -9.77755794])"
      ]
     },
     "execution_count": 516,
     "metadata": {},
     "output_type": "execute_result"
    }
   ],
   "source": [
    "un_k[k]"
   ]
  },
  {
   "cell_type": "code",
   "execution_count": 508,
   "metadata": {
    "collapsed": true
   },
   "outputs": [],
   "source": [
    "un_k[k] = (Lambda_k * M_normalized*np.sign(M_kminus1))"
   ]
  },
  {
   "cell_type": "code",
   "execution_count": 515,
   "metadata": {
    "collapsed": true
   },
   "outputs": [],
   "source": [
    "un_k[k] =  Lambda_k * (np.abs(M_kminus1)**(q-1))*np.sign(M_kminus1)/(M_qnorm**(q/p))"
   ]
  },
  {
   "cell_type": "code",
   "execution_count": 384,
   "metadata": {
    "collapsed": true
   },
   "outputs": [],
   "source": [
    "adaParams = adanet_init(numExamples,numInputNodes,cfg)"
   ]
  },
  {
   "cell_type": "code",
   "execution_count": 387,
   "metadata": {
    "collapsed": true
   },
   "outputs": [],
   "source": [
    "adaParams['lossStore'] = []\n",
    "adaParams['numInputNodes'] = numInputNodes\n",
    "adaParams['numOutputNodes'] = 1"
   ]
  },
  {
   "cell_type": "code",
   "execution_count": null,
   "metadata": {
    "collapsed": true
   },
   "outputs": [],
   "source": [
    "big_lambdas(n) = cfg.big_lambda/n_i^(1/q)"
   ]
  },
  {
   "cell_type": "code",
   "execution_count": 389,
   "metadata": {
    "collapsed": true
   },
   "outputs": [],
   "source": [
    "big_lambdas = np.zeros((adaParams['maxLayers'],1),float)"
   ]
  },
  {
   "cell_type": "code",
   "execution_count": 405,
   "metadata": {},
   "outputs": [
    {
     "data": {
      "text/plain": [
       "array([[0.        ],\n",
       "       [0.        ],\n",
       "       [0.        ],\n",
       "       [0.        ],\n",
       "       [0.71417785]])"
      ]
     },
     "execution_count": 405,
     "metadata": {},
     "output_type": "execute_result"
    }
   ],
   "source": [
    "big_lambdas"
   ]
  },
  {
   "cell_type": "code",
   "execution_count": 570,
   "metadata": {
    "collapsed": true
   },
   "outputs": [],
   "source": [
    "numNodes[0]=5"
   ]
  },
  {
   "cell_type": "code",
   "execution_count": 571,
   "metadata": {
    "collapsed": true
   },
   "outputs": [],
   "source": [
    "numNodes[1]=10"
   ]
  },
  {
   "cell_type": "code",
   "execution_count": 588,
   "metadata": {},
   "outputs": [
    {
     "data": {
      "text/plain": [
       "array([[0.],\n",
       "       [0.],\n",
       "       [0.],\n",
       "       [0.],\n",
       "       [0.],\n",
       "       [0.],\n",
       "       [0.],\n",
       "       [0.],\n",
       "       [0.],\n",
       "       [0.],\n",
       "       [0.],\n",
       "       [0.],\n",
       "       [0.],\n",
       "       [0.],\n",
       "       [0.]])"
      ]
     },
     "execution_count": 588,
     "metadata": {},
     "output_type": "execute_result"
    }
   ],
   "source": [
    "np.zeros((numNodes.sum(dtype=np.int32),1))"
   ]
  },
  {
   "cell_type": "code",
   "execution_count": 590,
   "metadata": {},
   "outputs": [
    {
     "data": {
      "text/plain": [
       "array([[ True],\n",
       "       [ True],\n",
       "       [False],\n",
       "       [False],\n",
       "       [False]])"
      ]
     },
     "execution_count": 590,
     "metadata": {},
     "output_type": "execute_result"
    }
   ],
   "source": [
    "numNodes != 0"
   ]
  },
  {
   "cell_type": "code",
   "execution_count": 397,
   "metadata": {
    "collapsed": true
   },
   "outputs": [],
   "source": [
    "q = adaParams['qnorm']"
   ]
  },
  {
   "cell_type": "code",
   "execution_count": null,
   "metadata": {
    "collapsed": true
   },
   "outputs": [],
   "source": []
  },
  {
   "cell_type": "code",
   "execution_count": 404,
   "metadata": {
    "collapsed": true
   },
   "outputs": [],
   "source": [
    "big_lambdas[n] = cfg['big_lambda']/n_i**(1/q)"
   ]
  },
  {
   "cell_type": "code",
   "execution_count": 591,
   "metadata": {},
   "outputs": [
    {
     "data": {
      "text/plain": [
       "dict"
      ]
     },
     "execution_count": 591,
     "metadata": {},
     "output_type": "execute_result"
    }
   ],
   "source": [
    "type(un_k)"
   ]
  },
  {
   "cell_type": "code",
   "execution_count": 592,
   "metadata": {},
   "outputs": [
    {
     "data": {
      "text/plain": [
       "{0: array([-0.02649328, -2.09729799, -9.77755794])}"
      ]
     },
     "execution_count": 592,
     "metadata": {},
     "output_type": "execute_result"
    }
   ],
   "source": [
    "un_k"
   ]
  },
  {
   "cell_type": "code",
   "execution_count": 594,
   "metadata": {
    "collapsed": true
   },
   "outputs": [],
   "source": [
    "un_kabs = {}\n",
    "for k,v in un_k.items():\n",
    "    un_kabs[k] = np.abs(v)"
   ]
  },
  {
   "cell_type": "code",
   "execution_count": 595,
   "metadata": {},
   "outputs": [
    {
     "data": {
      "text/plain": [
       "{0: array([0.02649328, 2.09729799, 9.77755794])}"
      ]
     },
     "execution_count": 595,
     "metadata": {},
     "output_type": "execute_result"
    }
   ],
   "source": [
    "un_kabs"
   ]
  },
  {
   "cell_type": "code",
   "execution_count": 596,
   "metadata": {},
   "outputs": [
    {
     "data": {
      "text/plain": [
       "1"
      ]
     },
     "execution_count": 596,
     "metadata": {},
     "output_type": "execute_result"
    }
   ],
   "source": [
    "len(un_kabs.keys())"
   ]
  },
  {
   "cell_type": "code",
   "execution_count": 603,
   "metadata": {
    "collapsed": true
   },
   "outputs": [],
   "source": [
    "dnMax = np.zeros((len(un_kabs.keys()),))                 #[dnMax,kBinNew] = max(cellfun(@max,dnAbs));\n",
    "kBinNew = np.zeros((len(un_kabs.keys()),))               #[dnMax,kBinNew] = max(cellfun(@max,dnAbs));\n",
    "for k,v in un_kabs.items():                               #[dnMax,kBinNew] = max(cellfun(@max,dnAbs));\n",
    "    dnMax[k],kBinNew[k] = v.max(),v.argmax()"
   ]
  },
  {
   "cell_type": "code",
   "execution_count": 604,
   "metadata": {},
   "outputs": [
    {
     "data": {
      "text/plain": [
       "array([9.77755794])"
      ]
     },
     "execution_count": 604,
     "metadata": {},
     "output_type": "execute_result"
    }
   ],
   "source": [
    "dnMax"
   ]
  },
  {
   "cell_type": "code",
   "execution_count": 605,
   "metadata": {},
   "outputs": [
    {
     "data": {
      "text/plain": [
       "array([2.])"
      ]
     },
     "execution_count": 605,
     "metadata": {},
     "output_type": "execute_result"
    }
   ],
   "source": [
    "kBinNew"
   ]
  },
  {
   "cell_type": "code",
   "execution_count": 606,
   "metadata": {},
   "outputs": [
    {
     "data": {
      "text/plain": [
       "(1,)"
      ]
     },
     "execution_count": 606,
     "metadata": {},
     "output_type": "execute_result"
    }
   ],
   "source": [
    "kBinNew.shape"
   ]
  },
  {
   "cell_type": "code",
   "execution_count": 67,
   "metadata": {
    "collapsed": true
   },
   "outputs": [],
   "source": [
    "s = np.array([a1,a2,a3])"
   ]
  },
  {
   "cell_type": "code",
   "execution_count": 64,
   "metadata": {
    "collapsed": true
   },
   "outputs": [],
   "source": [
    "a1 = 50"
   ]
  },
  {
   "cell_type": "code",
   "execution_count": 65,
   "metadata": {
    "collapsed": true
   },
   "outputs": [],
   "source": [
    "a2 = 70"
   ]
  },
  {
   "cell_type": "code",
   "execution_count": 66,
   "metadata": {
    "collapsed": true
   },
   "outputs": [],
   "source": [
    "a3 = 10"
   ]
  },
  {
   "cell_type": "code",
   "execution_count": 68,
   "metadata": {},
   "outputs": [
    {
     "data": {
      "text/plain": [
       "1"
      ]
     },
     "execution_count": 68,
     "metadata": {},
     "output_type": "execute_result"
    }
   ],
   "source": [
    "s.argmax()"
   ]
  },
  {
   "cell_type": "code",
   "execution_count": 69,
   "metadata": {},
   "outputs": [
    {
     "data": {
      "text/plain": [
       "array([50, 70, 10])"
      ]
     },
     "execution_count": 69,
     "metadata": {},
     "output_type": "execute_result"
    }
   ],
   "source": [
    "s"
   ]
  },
  {
   "cell_type": "code",
   "execution_count": 656,
   "metadata": {
    "collapsed": true
   },
   "outputs": [],
   "source": [
    "t = 10"
   ]
  },
  {
   "cell_type": "code",
   "execution_count": 657,
   "metadata": {
    "collapsed": true
   },
   "outputs": [],
   "source": [
    "history['newN'].append(np.hstack((np.array([t]).reshape(1,-1),np.zeros((1,adaParams['maxLayers'])))))"
   ]
  },
  {
   "cell_type": "code",
   "execution_count": 625,
   "metadata": {},
   "outputs": [
    {
     "data": {
      "text/plain": [
       "5"
      ]
     },
     "execution_count": 625,
     "metadata": {},
     "output_type": "execute_result"
    }
   ],
   "source": [
    "adaParams['maxLayers']"
   ]
  },
  {
   "cell_type": "code",
   "execution_count": 643,
   "metadata": {},
   "outputs": [
    {
     "data": {
      "text/plain": [
       "array([[4., 0., 0., 0., 0., 0.]])"
      ]
     },
     "execution_count": 643,
     "metadata": {},
     "output_type": "execute_result"
    }
   ],
   "source": [
    "np.hstack((np.array([t]).reshape(1,-1),np.zeros((1,adaParams['maxLayers']))))"
   ]
  },
  {
   "cell_type": "code",
   "execution_count": 633,
   "metadata": {},
   "outputs": [
    {
     "data": {
      "text/plain": [
       "(1, 5)"
      ]
     },
     "execution_count": 633,
     "metadata": {},
     "output_type": "execute_result"
    }
   ],
   "source": [
    "np.zeros((1,adaParams['maxLayers'])).shape"
   ]
  },
  {
   "cell_type": "code",
   "execution_count": 640,
   "metadata": {},
   "outputs": [
    {
     "data": {
      "text/plain": [
       "(1, 1)"
      ]
     },
     "execution_count": 640,
     "metadata": {},
     "output_type": "execute_result"
    }
   ],
   "source": [
    "np.array([t]).reshape(1,-1).shape"
   ]
  },
  {
   "cell_type": "code",
   "execution_count": 661,
   "metadata": {},
   "outputs": [
    {
     "data": {
      "text/plain": [
       "[array([[4., 0., 0., 1., 0., 0.]]), array([[10.,  0.,  0.,  0.,  1.,  0.]])]"
      ]
     },
     "execution_count": 661,
     "metadata": {},
     "output_type": "execute_result"
    }
   ],
   "source": [
    "history['newN']"
   ]
  },
  {
   "cell_type": "code",
   "execution_count": 660,
   "metadata": {
    "collapsed": true
   },
   "outputs": [],
   "source": [
    "history['newN'][-1][0,kNew+1] = 1"
   ]
  },
  {
   "cell_type": "code",
   "execution_count": 666,
   "metadata": {
    "collapsed": true
   },
   "outputs": [],
   "source": [
    "s1 = 'bias'"
   ]
  },
  {
   "cell_type": "code",
   "execution_count": 670,
   "metadata": {
    "collapsed": true
   },
   "outputs": [],
   "source": [
    "if hasattr(s, 'lower'):\n",
    "    print('hello')"
   ]
  },
  {
   "cell_type": "code",
   "execution_count": 674,
   "metadata": {},
   "outputs": [
    {
     "name": "stdout",
     "output_type": "stream",
     "text": [
      "hello\n"
     ]
    }
   ],
   "source": [
    "if str(s1) == 'bias':\n",
    "    print('hello')"
   ]
  },
  {
   "cell_type": "code",
   "execution_count": 676,
   "metadata": {
    "collapsed": true
   },
   "outputs": [],
   "source": [
    "import numpy as np\n",
    "import scipy.optimize as op\n",
    "\n",
    "def Sigmoid(z):\n",
    "    return 1/(1 + np.exp(-z));\n",
    "\n",
    "def Gradient(theta,x,y):\n",
    "    m , n = x.shape\n",
    "    theta = theta.reshape((n,1));\n",
    "    y = y.reshape((m,1))\n",
    "    sigmoid_x_theta = Sigmoid(x.dot(theta));\n",
    "    grad = ((x.T).dot(sigmoid_x_theta-y))/m;\n",
    "    return grad.flatten();\n",
    "\n",
    "def CostFunc(theta,x,y):\n",
    "    m,n = x.shape; \n",
    "    theta = theta.reshape((n,1));\n",
    "    y = y.reshape((m,1));\n",
    "    term1 = np.log(Sigmoid(x.dot(theta)));\n",
    "    term2 = np.log(1-Sigmoid(x.dot(theta)));\n",
    "    term1 = term1.reshape((m,1))\n",
    "    term2 = term2.reshape((m,1))\n",
    "    term = y * term1 + (1 - y) * term2;\n",
    "    J = -((np.sum(term))/m);\n",
    "    return J;\n",
    "\n",
    "# intialize X and y\n",
    "X = np.array([[1,2,3],[1,3,4]]);\n",
    "y = np.array([[1],[0]]);\n",
    "\n",
    "m , n = X.shape;\n",
    "initial_theta = np.zeros(n);\n",
    "Result = op.minimize(fun = CostFunc, \n",
    "                                 x0 = initial_theta, \n",
    "                                 args = (X, y),\n",
    "                                 method = 'TNC',\n",
    "                                 jac = Gradient);\n",
    "optimal_theta = Result.x;"
   ]
  },
  {
   "cell_type": "code",
   "execution_count": 677,
   "metadata": {},
   "outputs": [
    {
     "data": {
      "text/plain": [
       "array([ 77.74469423, -25.66384335,  -4.04584001])"
      ]
     },
     "execution_count": 677,
     "metadata": {},
     "output_type": "execute_result"
    }
   ],
   "source": [
    "optimal_theta"
   ]
  },
  {
   "cell_type": "code",
   "execution_count": 682,
   "metadata": {},
   "outputs": [
    {
     "data": {
      "text/plain": [
       "array([[1, 2, 3],\n",
       "       [1, 3, 4]])"
      ]
     },
     "execution_count": 682,
     "metadata": {},
     "output_type": "execute_result"
    }
   ],
   "source": [
    "X"
   ]
  },
  {
   "cell_type": "code",
   "execution_count": 684,
   "metadata": {},
   "outputs": [
    {
     "data": {
      "text/plain": [
       "array([[1],\n",
       "       [0]])"
      ]
     },
     "execution_count": 684,
     "metadata": {},
     "output_type": "execute_result"
    }
   ],
   "source": [
    "y"
   ]
  },
  {
   "cell_type": "code",
   "execution_count": 680,
   "metadata": {},
   "outputs": [
    {
     "data": {
      "text/plain": [
       "array([0., 0., 0.])"
      ]
     },
     "execution_count": 680,
     "metadata": {},
     "output_type": "execute_result"
    }
   ],
   "source": [
    "initial_theta"
   ]
  },
  {
   "cell_type": "code",
   "execution_count": 685,
   "metadata": {},
   "outputs": [
    {
     "data": {
      "text/plain": [
       "     fun: 4.1386555453899555e-07\n",
       "     jac: array([-2.14912216e-07, -3.30347818e-07, -5.45260034e-07])\n",
       " message: 'Local minimum reached (|pg| ~= 0)'\n",
       "    nfev: 17\n",
       "     nit: 7\n",
       "  status: 0\n",
       " success: True\n",
       "       x: array([ 77.74469423, -25.66384335,  -4.04584001])"
      ]
     },
     "execution_count": 685,
     "metadata": {},
     "output_type": "execute_result"
    }
   ],
   "source": [
    "Result"
   ]
  },
  {
   "cell_type": "code",
   "execution_count": 1,
   "metadata": {
    "collapsed": true
   },
   "outputs": [],
   "source": [
    "import numpy as np"
   ]
  },
  {
   "cell_type": "code",
   "execution_count": 33,
   "metadata": {},
   "outputs": [],
   "source": [
    "errLoss = np.zeros((50,1))"
   ]
  },
  {
   "cell_type": "code",
   "execution_count": 64,
   "metadata": {},
   "outputs": [
    {
     "data": {
      "text/plain": [
       "3"
      ]
     },
     "execution_count": 64,
     "metadata": {},
     "output_type": "execute_result"
    }
   ],
   "source": [
    "np.array([[4.7614433],[5],[5]]).shape[0]"
   ]
  },
  {
   "cell_type": "code",
   "execution_count": 65,
   "metadata": {},
   "outputs": [],
   "source": [
    "errLoss[0:3,:] = np.array([[4.7614433],[5],[5]])"
   ]
  },
  {
   "cell_type": "code",
   "execution_count": 73,
   "metadata": {},
   "outputs": [
    {
     "data": {
      "text/plain": [
       "array([0.0001    , 0.00017783, 0.00031623, 0.00056234, 0.001     ])"
      ]
     },
     "execution_count": 73,
     "metadata": {},
     "output_type": "execute_result"
    }
   ],
   "source": [
    "np.logspace(-4,-3,5)"
   ]
  },
  {
   "cell_type": "code",
   "execution_count": 71,
   "metadata": {},
   "outputs": [
    {
     "data": {
      "text/plain": [
       "array([[False],\n",
       "       [ True],\n",
       "       [ True],\n",
       "       [ True],\n",
       "       [ True],\n",
       "       [ True]])"
      ]
     },
     "execution_count": 71,
     "metadata": {},
     "output_type": "execute_result"
    }
   ],
   "source": [
    "np.logical_and(np.logical_not(np.array([[True],[False],[False],[False],[False],[False]])), np.array([[True],[True],[True],[True],[True],[True]]))"
   ]
  },
  {
   "cell_type": "code",
   "execution_count": 19,
   "metadata": {},
   "outputs": [
    {
     "data": {
      "text/plain": [
       "(1, 1)"
      ]
     },
     "execution_count": 19,
     "metadata": {},
     "output_type": "execute_result"
    }
   ],
   "source": [
    "Wk.shape"
   ]
  },
  {
   "cell_type": "code",
   "execution_count": 31,
   "metadata": {
    "collapsed": true
   },
   "outputs": [],
   "source": [
    "data = np.append([[1, 2, 3], [4, 5, 6]], [[7, 8, 9]],axis=0)"
   ]
  },
  {
   "cell_type": "code",
   "execution_count": 36,
   "metadata": {
    "collapsed": true
   },
   "outputs": [],
   "source": [
    "u = np.array([[0.2,0.1,0.7]])"
   ]
  },
  {
   "cell_type": "code",
   "execution_count": 33,
   "metadata": {
    "collapsed": true
   },
   "outputs": [],
   "source": [
    "data = np.append(data,[[10, 20, 30]],axis=0)"
   ]
  },
  {
   "cell_type": "code",
   "execution_count": 35,
   "metadata": {},
   "outputs": [
    {
     "data": {
      "text/plain": [
       "array([[ 1,  2,  3],\n",
       "       [ 4,  5,  6],\n",
       "       [ 7,  8,  9],\n",
       "       [10, 20, 30]])"
      ]
     },
     "execution_count": 35,
     "metadata": {},
     "output_type": "execute_result"
    }
   ],
   "source": [
    "data"
   ]
  },
  {
   "cell_type": "code",
   "execution_count": 49,
   "metadata": {
    "collapsed": true
   },
   "outputs": [],
   "source": [
    "u = u.reshape(-1,1)"
   ]
  },
  {
   "cell_type": "code",
   "execution_count": 50,
   "metadata": {},
   "outputs": [
    {
     "data": {
      "text/plain": [
       "(3, 1)"
      ]
     },
     "execution_count": 50,
     "metadata": {},
     "output_type": "execute_result"
    }
   ],
   "source": [
    "u.shape"
   ]
  },
  {
   "cell_type": "code",
   "execution_count": 51,
   "metadata": {
    "collapsed": true
   },
   "outputs": [],
   "source": [
    "hkm1 = np.dot(data,u)"
   ]
  },
  {
   "cell_type": "code",
   "execution_count": 54,
   "metadata": {},
   "outputs": [
    {
     "data": {
      "text/plain": [
       "(4, 1)"
      ]
     },
     "execution_count": 54,
     "metadata": {},
     "output_type": "execute_result"
    }
   ],
   "source": [
    "hkm1.shape"
   ]
  },
  {
   "cell_type": "code",
   "execution_count": 58,
   "metadata": {},
   "outputs": [
    {
     "data": {
      "text/plain": [
       "array([[ 1,  2,  3,  1],\n",
       "       [ 4,  5,  6,  2],\n",
       "       [ 7,  8,  9,  3],\n",
       "       [10, 20, 30,  4]])"
      ]
     },
     "execution_count": 58,
     "metadata": {},
     "output_type": "execute_result"
    }
   ],
   "source": [
    "np.append(data,[[1],[2],[3],[4]], axis=1)"
   ]
  },
  {
   "cell_type": "code",
   "execution_count": 57,
   "metadata": {},
   "outputs": [
    {
     "data": {
      "text/plain": [
       "(4, 1)"
      ]
     },
     "execution_count": 57,
     "metadata": {},
     "output_type": "execute_result"
    }
   ],
   "source": [
    "np.array([[1],[2],[3],[4]]).shape"
   ]
  },
  {
   "cell_type": "code",
   "execution_count": 60,
   "metadata": {},
   "outputs": [
    {
     "data": {
      "text/plain": [
       "array([[0],\n",
       "       [0],\n",
       "       [0],\n",
       "       [0],\n",
       "       [0]])"
      ]
     },
     "execution_count": 60,
     "metadata": {},
     "output_type": "execute_result"
    }
   ],
   "source": [
    "np.zeros((5,1),dtype=np.int)"
   ]
  },
  {
   "cell_type": "code",
   "execution_count": 61,
   "metadata": {},
   "outputs": [
    {
     "name": "stdout",
     "output_type": "stream",
     "text": [
      "0\n"
     ]
    }
   ],
   "source": [
    "for i in range(1): \n",
    "    print(i)"
   ]
  },
  {
   "cell_type": "code",
   "execution_count": null,
   "metadata": {
    "collapsed": true
   },
   "outputs": [],
   "source": []
  }
 ],
 "metadata": {
  "kernelspec": {
   "display_name": "tensorflow",
   "language": "python",
   "name": "tensorflow"
  },
  "language_info": {
   "codemirror_mode": {
    "name": "ipython",
    "version": 3
   },
   "file_extension": ".py",
   "mimetype": "text/x-python",
   "name": "python",
   "nbconvert_exporter": "python",
   "pygments_lexer": "ipython3",
   "version": "3.6.4"
  }
 },
 "nbformat": 4,
 "nbformat_minor": 2
}
